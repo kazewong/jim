{
 "cells": [
  {
   "cell_type": "code",
   "execution_count": null,
   "metadata": {},
   "outputs": [],
   "source": [
    "import os\n",
    "os.environ[\"JAX_PLATFORMS\"] = \"cpu\"\n",
    "import jax\n",
    "import jax.numpy as jnp\n",
    "\n",
    "import numpy as np\n",
    "\n",
    "jax.config.update(\"jax_enable_x64\", True)\n",
    "\n",
    "N_SAMPLES = 1000"
   ]
  },
  {
   "cell_type": "markdown",
   "metadata": {},
   "source": [
    "This is the notebook comparing all inner functions of `SkyFrameToDetectorFrameSkyPositionTransform` in `Jim` and the corresponding functions in `bilby`. "
   ]
  },
  {
   "cell_type": "markdown",
   "metadata": {},
   "source": [
    "The following is the test comparing `theta_phi_to_ra_dec` in `jim` and that in `bilby`.\n",
    "See [bilby's lines](<https://git.ligo.org/lscsoft/bilby/-/blob/c6bcb81649b7ebf97ae6e1fd689e8712fe028eb0/bilby/core/utils/conversion.py#:~:text=def-,theta_phi_to_ra_dec,-(theta%2C>)"
   ]
  },
  {
   "cell_type": "code",
   "execution_count": null,
   "metadata": {},
   "outputs": [],
   "source": [
    "# test theta_phi_to_ra_dec in inverse transform\n",
    "from jimgw.single_event.utils import theta_phi_to_ra_dec as jim_theta_phi_to_ra_dec\n",
    "from bilby.core.utils import theta_phi_to_ra_dec as bilby_theta_phi_to_ra_dec\n",
    "\n",
    "key = jax.random.PRNGKey(42)\n",
    "\n",
    "tol_diff_ra = 0\n",
    "tol_diff_dec = 0\n",
    "\n",
    "for _ in range(N_SAMPLES):\n",
    "    key, subkey = jax.random.split(key)\n",
    "    subkeys = jax.random.split(subkey, 3)\n",
    "    theta = jax.random.uniform(subkeys[0], (1,), minval=0, maxval=jnp.pi)\n",
    "    phi = jax.random.uniform(subkeys[1], (1,), minval=0, maxval=jnp.pi)\n",
    "    gmst = jax.random.uniform(subkeys[2], (1,), minval=0, maxval=2 * jnp.pi)\n",
    "\n",
    "    jim_ra, jim_dec = jim_theta_phi_to_ra_dec(theta, phi, gmst)\n",
    "    bilby_ra, bilby_dec = bilby_theta_phi_to_ra_dec(theta, phi, gmst)\n",
    "    bilby_ra = bilby_ra % (2 * jnp.pi)\n",
    "    diff_ra = jnp.abs(jim_ra - bilby_ra)\n",
    "    diff_dec = jnp.abs(jim_dec - bilby_dec)\n",
    "    tol_diff_ra += diff_ra\n",
    "    tol_diff_dec += diff_dec\n",
    "\n",
    "    assert jnp.allclose(\n",
    "        jim_ra, bilby_ra, atol=1e-5\n",
    "    ), f\"jim_ra: {jim_ra}, bilby_ra: {bilby_ra}\"\n",
    "    assert jnp.allclose(\n",
    "        jim_dec, bilby_dec, atol=1e-5\n",
    "    ), f\"jim_dec: {jim_dec}, bilby_dec: {bilby_dec}\"\n",
    "\n",
    "mean_ra_diff = tol_diff_ra / N_SAMPLES\n",
    "mean_dec_diff = tol_diff_dec / N_SAMPLES\n",
    "print(\"Mean difference in RA: \", mean_ra_diff)\n",
    "print(\"Mean difference in DEC: \", mean_dec_diff)"
   ]
  },
  {
   "cell_type": "markdown",
   "metadata": {},
   "source": [
    "The following is the test comparing `angle_rotation` in `jim` and `zenith_azimuth_to_theta_phi` in `bilby`. See [bilby's lines](https://git.ligo.org/colm.talbot/bilby-cython/-/blob/main/bilby_cython/geometry.pyx?ref_type=heads#:~:text=zenith_azimuth_to_theta_phi)"
   ]
  },
  {
   "cell_type": "code",
   "execution_count": null,
   "metadata": {},
   "outputs": [],
   "source": [
    "# test angle rotation\n",
    "from jimgw.single_event.utils import angle_rotation as jim_angle_rotation\n",
    "from jimgw.single_event.utils import euler_rotation\n",
    "from bilby_cython.geometry import zenith_azimuth_to_theta_phi as bibly_angle_rotation\n",
    "from bilby_cython.geometry import rotation_matrix_from_delta\n",
    "\n",
    "tol_diff_theta = 0\n",
    "tol_diff_phi = 0\n",
    "\n",
    "for _ in range(N_SAMPLES):\n",
    "    zenith = np.random.uniform(0, np.pi)\n",
    "    azimuth = np.random.uniform(0, 2 * np.pi)\n",
    "    delta_x = np.random.uniform(0, 1, size=3)\n",
    "\n",
    "    # Ensure rotation matrix are the same\n",
    "    jim_rot = euler_rotation(delta_x)\n",
    "    bilby_rot = rotation_matrix_from_delta(delta_x)\n",
    "\n",
    "    assert jnp.allclose(\n",
    "        jim_rot, bilby_rot\n",
    "    ), f\"jim_rot: {jim_rot}, bilby_rot: {bilby_rot}\"\n",
    "\n",
    "    jim_theta, jim_phi = jim_angle_rotation(zenith, azimuth, jim_rot)\n",
    "    bilby_out = bibly_angle_rotation(zenith, azimuth, delta_x)\n",
    "\n",
    "    diff_theta = jnp.abs(jim_theta - bilby_out[0])\n",
    "    diff_phi = jnp.abs(jim_phi - bilby_out[1])\n",
    "\n",
    "    tol_diff_theta += diff_theta\n",
    "    tol_diff_phi += diff_phi\n",
    "\n",
    "    assert jnp.allclose(\n",
    "        jim_theta, bilby_out[0]\n",
    "    ), f\"jim_theta: {jim_theta}, bilby_theta: {bilby_out[0]}\"\n",
    "    assert jnp.allclose(\n",
    "        jim_phi, bilby_out[1]\n",
    "    ), f\"jim_phi: {jim_phi}, bilby_phi: {bilby_out[1]}\"\n",
    "\n",
    "mean_diff_theta = tol_diff_theta / N_SAMPLES\n",
    "mean_diff_phi = tol_diff_phi / N_SAMPLES\n",
    "print(\"Mean difference in theta: \", mean_diff_theta)\n",
    "print(\"Mean difference in phi: \", mean_diff_phi)"
   ]
  },
  {
   "cell_type": "markdown",
   "metadata": {},
   "source": [
    "The following compares `delta_x` in `Jim` and that in `bilby`"
   ]
  },
  {
   "cell_type": "code",
   "execution_count": null,
   "metadata": {},
   "outputs": [],
   "source": [
    "# test delta_x\n",
    "from itertools import combinations\n",
    "from bilby.gw.detector import InterferometerList\n",
    "from jimgw.single_event.detector import detector_preset\n",
    "\n",
    "HLV = [\"H1\", \"L1\", \"V1\"]\n",
    "for ifos in combinations(HLV, 2):\n",
    "    jim_ifos = [detector_preset[ifo] for ifo in ifos]\n",
    "    bilby_ifos = InterferometerList(ifos)\n",
    "\n",
    "    delta_x_j = jim_ifos[0].vertex - jim_ifos[1].vertex\n",
    "    delta_x_b = bilby_ifos[0].vertex - bilby_ifos[1].vertex\n",
    "\n",
    "    print(f\"Difference in delta_x for {ifos}: {jnp.abs(delta_x_j - delta_x_b)}\")"
   ]
  },
  {
   "cell_type": "markdown",
   "metadata": {},
   "source": [
    "The following compares the `gmst` in `Jim` and that in `bilby`. See [bilby's lines](https://git.ligo.org/colm.talbot/bilby-cython/-/blob/main/bilby_cython/time.pyx?ref_type=heads#:~:text=greenwich_mean_sidereal_time)"
   ]
  },
  {
   "cell_type": "code",
   "execution_count": null,
   "metadata": {},
   "outputs": [],
   "source": [
    "# Compare the greenwich mean sidereal time (GMST) and greenwich apparent sidereal time (GAST).\n",
    "from jimgw.gps_times import greenwich_mean_sidereal_time as jim_gmst\n",
    "from bilby_cython.time import greenwich_mean_sidereal_time\n",
    "from astropy.time import Time\n",
    "\n",
    "tol_diff_1 = 0\n",
    "tol_diff_2 = 0\n",
    "tol_diff_3 = 0\n",
    "gps_times = jax.random.uniform(\n",
    "    jax.random.PRNGKey(42), N_SAMPLES*2, minval=1, maxval=2e9+1234.5678\n",
    ")\n",
    "# for time in np.random.uniform(1, 10000000, N_SAMPLES):\n",
    "for time in gps_times:\n",
    "    gps_time = Time(time, format=\"gps\")\n",
    "    gmst_j = gps_time.sidereal_time(\"mean\", \"greenwich\").rad % (2 * np.pi)\n",
    "    gast_j = gps_time.sidereal_time(\"apparent\", \"greenwich\").rad % (2 * np.pi)\n",
    "    gmst_jim = jim_gmst(time) % (2 * np.pi)\n",
    "    gmst_b = greenwich_mean_sidereal_time(time) % (2 * np.pi)\n",
    "    tol_diff_1 += jnp.abs(gmst_j - gmst_b)\n",
    "    tol_diff_2 += jnp.abs(gast_j - gmst_b)\n",
    "    tol_diff_3 += jnp.abs(gmst_jim - gmst_b)\n",
    "\n",
    "mean_diff = tol_diff_1 / N_SAMPLES\n",
    "print(\"Mean difference in GMST: \", mean_diff)\n",
    "mean_diff = tol_diff_2 / N_SAMPLES\n",
    "print(\"Mean difference in GAST: \", mean_diff)\n",
    "mean_diff = tol_diff_3 / N_SAMPLES\n",
    "print(\"Mean difference in new Jim GMST: \", mean_diff)"
   ]
  },
  {
   "cell_type": "markdown",
   "metadata": {},
   "source": [
    "The following compares the `SkyFrameToDetectorFrameSkyPositionTransform` in `Jim` and `zenith_azimuth_to_ra_dec` in `bilby`. See [bilby's lines](https://git.ligo.org/lscsoft/bilby/-/blob/c6bcb81649b7ebf97ae6e1fd689e8712fe028eb0/bilby/gw/utils.py#:~:text=zenith_azimuth_to_ra_dec)"
   ]
  },
  {
   "cell_type": "code",
   "execution_count": null,
   "metadata": {},
   "outputs": [],
   "source": [
    "# test the transform\n",
    "from jimgw.single_event.transforms import SkyFrameToDetectorFrameSkyPositionTransform\n",
    "from jimgw.single_event.detector import H1, L1\n",
    "\n",
    "from bilby.gw.utils import zenith_azimuth_to_ra_dec as bilby_zenith_azimuth_to_ra_dec\n",
    "from bilby.gw.detector import InterferometerList\n",
    "\n",
    "key = jax.random.PRNGKey(42)\n",
    "\n",
    "gps_time = 1126259642.413\n",
    "jim_ifos = [H1, L1]\n",
    "\n",
    "ifo_names = [\"H1\", \"L1\"]\n",
    "bilby_ifos = InterferometerList(ifo_names)\n",
    "\n",
    "tol_diff_dec = 0\n",
    "tol_diff_ra = 0\n",
    "\n",
    "for _ in range(N_SAMPLES):\n",
    "    key, subkey = jax.random.split(key)\n",
    "    subkeys = jax.random.split(subkey, 2)\n",
    "    zenith = jax.random.uniform(subkeys[0], (1,), minval=0, maxval=jnp.pi)\n",
    "    azimuth = jax.random.uniform(subkeys[1], (1,), minval=0, maxval=2 * jnp.pi)\n",
    "\n",
    "    jim_transform = SkyFrameToDetectorFrameSkyPositionTransform(\n",
    "        gps_time=gps_time, ifos=jim_ifos\n",
    "    )\n",
    "    jim_outputs, _ = jim_transform.inverse(dict(zenith=zenith, azimuth=azimuth))\n",
    "    bilby_ra, bilby_dec = bilby_zenith_azimuth_to_ra_dec(\n",
    "        zenith[0], azimuth[0], gps_time, bilby_ifos\n",
    "    )\n",
    "    jim_ra = jim_outputs[\"ra\"]\n",
    "    jim_dec = jim_outputs[\"dec\"]\n",
    "\n",
    "    diff_ra = jnp.abs(jim_ra - bilby_ra)\n",
    "    diff_dec = jnp.abs(jim_dec - bilby_dec)\n",
    "    tol_diff_ra += diff_ra\n",
    "    tol_diff_dec += diff_dec\n",
    "\n",
    "mean_ra_diff = tol_diff_ra / N_SAMPLES\n",
    "mean_dec_diff = tol_diff_dec / N_SAMPLES\n",
    "print(\"Mean difference in RA: \", mean_ra_diff)\n",
    "print(\"Mean difference in DEC: \", mean_dec_diff)"
   ]
  },
  {
   "cell_type": "markdown",
   "metadata": {},
   "source": [
    "As seen in the above, the source of error in `SkyFrameToDetectorFrameSkyPositionTransform` would be the difference in calculating `gmst`. `Jim` and `bilby` use different algorithms for calculating `gmst`. This introduces an error of the order 1e-5 to `ra`. "
   ]
  },
  {
   "cell_type": "markdown",
   "metadata": {},
   "source": [
    "**Update on 2025/05/06:**\n",
    "With the newly implemented GMST algorithm, the difference is now far below `1e-5`.\n",
    "In fact, it can reach exactly zero now."
   ]
  },
  {
   "cell_type": "markdown",
   "metadata": {},
   "source": [
    "# Ensure new and old implementation of the angle rotation are equilvalent"
   ]
  },
  {
   "cell_type": "code",
   "execution_count": null,
   "metadata": {},
   "outputs": [],
   "source": [
    "from jimgw.single_event.utils import euler_rotation\n",
    "\n",
    "key = jax.random.PRNGKey(123)\n",
    "key, subkey = jax.random.split(key)\n",
    "zenith, azimuth = jax.random.uniform(key, (2, N_SAMPLES), minval=0, maxval=jnp.pi)\n",
    "azimuth *= 2.0\n",
    "delta_x = jax.random.uniform(subkey, (N_SAMPLES, 3), minval=0, maxval=1)\n",
    "\n",
    "\n",
    "def old_angle_rotation(zenith, azimuth, rotation):\n",
    "    sin_azimuth = jnp.sin(azimuth)\n",
    "    cos_azimuth = jnp.cos(azimuth)\n",
    "    sin_zenith = jnp.sin(zenith)\n",
    "    cos_zenith = jnp.cos(zenith)\n",
    "\n",
    "    theta = jnp.acos(\n",
    "        rotation[2][0] * sin_zenith * cos_azimuth\n",
    "        + rotation[2][1] * sin_zenith * sin_azimuth\n",
    "        + rotation[2][2] * cos_zenith\n",
    "    )\n",
    "    phi = jnp.fmod(\n",
    "        jnp.atan2(\n",
    "            rotation[1][0] * sin_zenith * cos_azimuth\n",
    "            + rotation[1][1] * sin_zenith * sin_azimuth\n",
    "            + rotation[1][2] * cos_zenith,\n",
    "            rotation[0][0] * sin_zenith * cos_azimuth\n",
    "            + rotation[0][1] * sin_zenith * sin_azimuth\n",
    "            + rotation[0][2] * cos_zenith,\n",
    "        )\n",
    "        + 2 * jnp.pi,\n",
    "        2 * jnp.pi,\n",
    "    )\n",
    "    return theta, phi\n",
    "\n",
    "\n",
    "def new_angle_rotation(zenith, azimuth, rotation):\n",
    "    sky_loc_vec = jnp.array(\n",
    "        [\n",
    "            jnp.sin(zenith) * jnp.cos(azimuth),\n",
    "            jnp.sin(zenith) * jnp.sin(azimuth),\n",
    "            jnp.cos(zenith),\n",
    "        ]\n",
    "    )\n",
    "    rotated_vec = jnp.einsum(\"ij,j...->i...\", rotation, sky_loc_vec)\n",
    "\n",
    "    theta = jnp.acos(rotated_vec[2])\n",
    "    phi = jnp.fmod(\n",
    "        jnp.atan2(rotated_vec[1], rotated_vec[0]) + 2 * jnp.pi,\n",
    "        2 * jnp.pi,\n",
    "    )\n",
    "    return theta, phi"
   ]
  },
  {
   "cell_type": "code",
   "execution_count": null,
   "metadata": {},
   "outputs": [],
   "source": [
    "# Use much stringent tolerance for this test to ensure equivalence.\n",
    "atol = 1e-13  # Default: 1e-5\n",
    "rtol = 5e-15  # Default: 1e-8\n",
    "\n",
    "max_diff = []\n",
    "frac_diff = []\n",
    "# Use the first 100 samples to test the rotation\n",
    "for delta_x_i in delta_x:\n",
    "    rotation_mat = euler_rotation(delta_x_i)\n",
    "\n",
    "    old_theta_phi = jnp.array(old_angle_rotation(zenith, azimuth, rotation_mat))\n",
    "    new_theta_phi = jnp.array(new_angle_rotation(zenith, azimuth, rotation_mat))\n",
    "\n",
    "    abs_diff = jnp.abs(old_theta_phi - new_theta_phi)\n",
    "    threshold = atol + rtol * jnp.abs(new_theta_phi)\n",
    "\n",
    "    max_diff.append(jnp.max(abs_diff))\n",
    "    frac_diff.append(jnp.max(1 - new_theta_phi / old_theta_phi))\n",
    "\n",
    "    assert jnp.allclose(old_theta_phi, new_theta_phi, rtol=rtol, atol=atol), (\n",
    "        f\"Max. abs. diff. - threshold: {jnp.max(abs_diff - threshold):.3e} > 0!; \\n\"\n",
    "        + f\"old_theta_phi: {old_theta_phi}, \\nnew_theta_phi: {new_theta_phi}\"\n",
    "    )\n",
    "\n",
    "print(\"Max absolute difference: \", jnp.max(jnp.array(max_diff)))\n",
    "print(\"Max fractional difference: \", jnp.max(jnp.array(frac_diff)))"
   ]
  },
  {
   "cell_type": "markdown",
   "metadata": {},
   "source": [
    "It is clear that the new implementation is same as the old one at machine precision."
   ]
  }
 ],
 "metadata": {
  "kernelspec": {
   "display_name": "py311_bilby_jim-dev",
   "language": "python",
   "name": "python3"
  },
  "language_info": {
   "codemirror_mode": {
    "name": "ipython",
    "version": 3
   },
   "file_extension": ".py",
   "mimetype": "text/x-python",
   "name": "python",
   "nbconvert_exporter": "python",
   "pygments_lexer": "ipython3",
   "version": "3.11.12"
  }
 },
 "nbformat": 4,
 "nbformat_minor": 2
}
