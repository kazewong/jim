{
 "cells": [
  {
   "cell_type": "markdown",
   "id": "eb8130ea-eeb1-48f3-a870-db230d0f93ab",
   "metadata": {},
   "source": [
    "# Analyzing GW170817\n",
    "\n",
    "We will demonstrate how to use _jim_ to analyze the binary neutron star GW170817 using the IMRPhenomD waveform."
   ]
  },
  {
   "cell_type": "code",
   "execution_count": 1,
   "id": "29f96c4b-7aee-4bc0-a9b7-0684291d9091",
   "metadata": {
    "tags": []
   },
   "outputs": [],
   "source": [
    "%matplotlib inline\n",
    "%config InlineBackend.figure_format = 'retina'"
   ]
  },
  {
   "cell_type": "code",
   "execution_count": 2,
   "id": "e2290d54-57fa-46d2-a3b4-f2e91b40cc68",
   "metadata": {
    "tags": []
   },
   "outputs": [
    {
     "name": "stderr",
     "output_type": "stream",
     "text": [
      "2023-03-30 14:13:39.741712: W external/org_tensorflow/tensorflow/tsl/platform/default/dso_loader.cc:66] Could not load dynamic library 'libcudart.so.11.0'; dlerror: libcudart.so.11.0: cannot open shared object file: No such file or directory; LD_LIBRARY_PATH: /mnt/sw/nix/store/wxp5xscxcqq0l1nlrv8k136qs5wqaln6-vscode-1.73.1/lib:/mnt/sw/nix/store/hayjz1l94cb2ky37bhcv71aygjzq7fci-openblas-0.3.21/lib:/cm/shared/apps/slurm/current/lib64:/run/opengl-driver/lib\n",
      "2023-03-30 14:13:40.065011: W external/org_tensorflow/tensorflow/tsl/platform/default/dso_loader.cc:66] Could not load dynamic library 'libcudart.so.11.0'; dlerror: libcudart.so.11.0: cannot open shared object file: No such file or directory; LD_LIBRARY_PATH: /mnt/sw/nix/store/wxp5xscxcqq0l1nlrv8k136qs5wqaln6-vscode-1.73.1/lib:/mnt/sw/nix/store/hayjz1l94cb2ky37bhcv71aygjzq7fci-openblas-0.3.21/lib:/cm/shared/apps/slurm/current/lib64:/run/opengl-driver/lib\n",
      "2023-03-30 14:13:40.076833: W external/org_tensorflow/tensorflow/tsl/platform/default/dso_loader.cc:66] Could not load dynamic library 'libcudart.so.11.0'; dlerror: libcudart.so.11.0: cannot open shared object file: No such file or directory; LD_LIBRARY_PATH: /mnt/sw/nix/store/wxp5xscxcqq0l1nlrv8k136qs5wqaln6-vscode-1.73.1/lib:/mnt/sw/nix/store/hayjz1l94cb2ky37bhcv71aygjzq7fci-openblas-0.3.21/lib:/cm/shared/apps/slurm/current/lib64:/run/opengl-driver/lib\n"
     ]
    },
    {
     "ename": "",
     "evalue": "",
     "output_type": "error",
     "traceback": [
      "\u001b[1;31mThe Kernel crashed while executing code in the the current cell or a previous cell. Please review the code in the cell(s) to identify a possible cause of the failure. Click <a href='https://aka.ms/vscodeJupyterKernelCrash'>here</a> for more info. View Jupyter <a href='command:jupyter.viewOutput'>log</a> for further details."
     ]
    },
    {
     "ename": "",
     "evalue": "",
     "output_type": "error",
     "traceback": [
      "\u001b[1;31mCanceled future for execute_request message before replies were done"
     ]
    }
   ],
   "source": [
    "import numpy as np\n",
    "import jax.numpy as jnp\n",
    "import jax\n",
    "\n",
    "from gwpy.timeseries import TimeSeries\n",
    "from gwpy.frequencyseries import FrequencySeries\n",
    "import requests\n",
    "\n",
    "from astropy.time import Time\n",
    "\n",
    "from scipy.signal.windows import tukey\n",
    "from scipy.interpolate import interp1d\n",
    "\n",
    "\n",
    "from ripple.waveforms.IMRPhenomD import gen_IMRPhenomD_polar\n",
    "\n",
    "from jaxgw.PE.detector_preset import *\n",
    "from jaxgw.PE.heterodyneLikelihood import make_heterodyne_likelihood_mutliple_detector\n",
    "from jaxgw.PE.detector_projection import make_detector_response\n",
    "\n",
    "from flowMC.nfmodel.rqSpline import RQSpline\n",
    "from flowMC.sampler.MALA import MALA\n",
    "from flowMC.sampler.Sampler import Sampler\n",
    "from flowMC.utils.PRNG_keys import initialize_rng_keys\n",
    "from flowMC.nfmodel.utils import *"
   ]
  },
  {
   "cell_type": "markdown",
   "id": "0ecaca16-1029-47f3-a1f2-46cf8c686209",
   "metadata": {
    "tags": []
   },
   "source": [
    "## Data and conditioning\n",
    "\n",
    "We will fetch the GW170817 strain data recorded by LIGO and Virgo from [GWOSC](https://gw-openscience.org) using the [GWpy](https://gwpy.github.io) package; we will also download power-spectral densities (PSDs), made publicly available by LIGO-Virgo."
   ]
  },
  {
   "cell_type": "markdown",
   "id": "f02e0e83-05f3-466f-99f6-5ed55a059078",
   "metadata": {},
   "source": [
    "### Strain\n",
    "\n",
    "To do so, we need to know the GPS time associated with the event (in this case, $t = 1187008882.43 s$).\n",
    "We also need to prescribe how much data we wish to analyze around the event (in this case, $T = 128 s$, aka, the _segment length_ or _seglen_). We will place the trigger $2 s$ before the end of the analysis segment, following the LVK convention.\n",
    "\n",
    "> &#x1F449; _**NOTE:** if you don't know the tigger GPS time, you may obtain it from the event name using the [`datasets.event_gps`](https://gwosc.readthedocs.io/en/stable/reference/gwosc.datasets.event_gps.html#event-gps) utility from the [gwosc](https://gwosc.readthedocs.io) package, e.g., `event_gps(\"GW170817\")`_.\n"
   ]
  },
  {
   "cell_type": "code",
   "execution_count": 11,
   "id": "4eb06ba0-e822-4d35-b942-d7317fed1950",
   "metadata": {
    "tags": []
   },
   "outputs": [],
   "source": [
    "trigger_time = 1187008882.43\n",
    "seglen = 128\n",
    "\n",
    "# determine segment bounds, placing trigger 2s before the end\n",
    "post_trigger_duration = 2\n",
    "start = trigger_time - seglen + post_trigger_duration\n",
    "end = trigger_time + post_trigger_duration"
   ]
  },
  {
   "cell_type": "markdown",
   "id": "681fde34-453e-4918-954a-fe6e89a2eff0",
   "metadata": {},
   "source": [
    "With those parameters, we can now fetch the data from GWOSC using `fetch_open_data()`. For GW170817, We make sure to specify `version=2` to get the version of data without the glitch in Livingston (see [GWOSC docs](https://doi.org/10.7935/K5B8566F) for this release)."
   ]
  },
  {
   "cell_type": "code",
   "execution_count": 13,
   "id": "3b929ad4-6c4b-4fbc-9762-95f4a6f8fadb",
   "metadata": {
    "tags": []
   },
   "outputs": [],
   "source": [
    "ifos = ['H1', 'L1', 'V1']\n",
    "data_td_dict = {i: TimeSeries.fetch_open_data(i, start, end, version=2)\n",
    "                for i in ifos}"
   ]
  },
  {
   "cell_type": "markdown",
   "id": "38c01f46-88e9-4b26-8435-397e14a8503e",
   "metadata": {},
   "source": [
    "For the likelihood computation, we will want frequency domain data. We can IFFT the above data after applying a window function; following common LVK practice for this event, we apply a Tukey window with a slope parameter `alpha=0.00625`.\n",
    "\n",
    "> &#x1F449; _**NOTE:** different `alpha` values may be appropriate for different events, e.g., `alpha = 0.4` is standard for shorter binary black holes._"
   ]
  },
  {
   "cell_type": "code",
   "execution_count": 49,
   "id": "ee162bc3-c25c-4a5a-8762-b0335be47a43",
   "metadata": {
    "tags": []
   },
   "outputs": [],
   "source": [
    "tukey_alpha = 0.00625\n",
    "data_fd_dict = {}\n",
    "for ifo, d in data_td_dict.items():\n",
    "    w = tukey(len(d), tukey_alpha)\n",
    "    f = np.fft.rfftfreq(len(d), d=d.dt)\n",
    "    data_fd_dict[ifo] = FrequencySeries(np.fft.rfft(d*w)/d.dt, frequencies=f)"
   ]
  },
  {
   "cell_type": "markdown",
   "id": "2b970fac-7a39-4e26-8de2-961273620880",
   "metadata": {},
   "source": [
    "### Power spectral densities (PSDs)"
   ]
  },
  {
   "cell_type": "markdown",
   "id": "6a1a4cc9-e4d5-4daf-bf1e-df79dd186738",
   "metadata": {},
   "source": [
    "Besides the strain, to compute the likelihood we will need a PSDs characterizing the noise at each detector. Although we could estimate this oursevles directly from the data (e.g., [arXiv:1907.06540](https://arxiv.org/abs/1907.06540)), we will forgo that step and download precomputed PSDs made available by the LVK collaboration in [LIGO-P1800061](https://dcc.ligo.org/LIGO-P1800061/public).\n",
    "\n",
    "> &#x1F449; _**NOTE:** you may load any PSD you wish for this step, whether from disk or computed on the fly._"
   ]
  },
  {
   "cell_type": "code",
   "execution_count": 28,
   "id": "6e87c095-801e-49c7-829c-53673b42110f",
   "metadata": {
    "tags": []
   },
   "outputs": [],
   "source": [
    "psd_url = \"https://dcc.ligo.org/public/0150/P1800061/011/GW170817_PSDs.dat\"\n",
    "with requests.get(psd_url) as r:\n",
    "    psd_data = np.genfromtxt(r.iter_lines())"
   ]
  },
  {
   "cell_type": "markdown",
   "id": "869c43f8-7608-4f05-a3ea-0c0fc39ebd71",
   "metadata": {},
   "source": [
    "The `psd_data` object is a 2D array where the first column is frequency and the rest are the corresponding PSD values for H1, L1 and V1, in that order. For convenience, and because these PSD data are not uniformly sampled, we will turn this into interpolants that we can evaluate over any frequency bins for each detector."
   ]
  },
  {
   "cell_type": "code",
   "execution_count": 53,
   "id": "eb7e241e-26fa-403f-bf08-f9b696499a26",
   "metadata": {
    "tags": []
   },
   "outputs": [],
   "source": [
    "psd_dict = {}\n",
    "for i, (ifo, d) in enumerate(data_fd_dict.items()):\n",
    "    p = interp1d(psd_data[:,0], psd_data[:,i+1], bounds_error=False,\n",
    "                 fill_value=np.inf)\n",
    "    psd_dict[ifo] = FrequencySeries(p(d.frequencies), frequencies=d.frequencies)"
   ]
  },
  {
   "cell_type": "markdown",
   "id": "e9842c0f",
   "metadata": {},
   "source": [
    "### Forming the likelihood "
   ]
  },
  {
   "cell_type": "code",
   "execution_count": 74,
   "id": "a369a6e6-9d77-4c82-a49a-3d421d8c4952",
   "metadata": {
    "tags": []
   },
   "outputs": [
    {
     "data": {
      "text/plain": [
       "<ufunc 'degrees'>"
      ]
     },
     "execution_count": 74,
     "metadata": {},
     "output_type": "execute_result"
    }
   ],
   "source": [
    "from jimgw.core.PE.detector_preset import * \n",
    "from jimgw.core.PE.heterodyneLikelihood import make_heterodyne_likelihood_mutliple_detector\n",
    "from jimgw.core.PE.detector_projection import make_detector_response\n",
    "\n",
    "H1 = get_H1()\n",
    "H1_response = make_detector_response(H1[0], H1[1])\n",
    "L1 = get_L1()\n",
    "L1_response = make_detector_response(L1[0], L1[1])\n",
    "V1 = get_V1()\n",
    "V1_response = make_detector_response(V1[0], V1[1])\n",
    "\n",
    "def LogLikelihood(theta):\n",
    "    theta = theta.at[1].set(theta[1]/(1+theta[1])**2) # convert q to eta\n",
    "    theta = theta.at[7].set(jnp.arccos(theta[7])) # convert cos iota to iota\n",
    "    theta = theta.at[10].set(jnp.arcsin(theta[10])) # convert cos dec to dec\n",
    "    theta_waveform = theta[:8]\n",
    "    theta_waveform = theta_waveform.at[5].set(0)\n",
    "    ra = theta[9]\n",
    "    dec = theta[10]\n",
    "    hp_test, hc_test = gen_IMRPhenomD_polar(H1_frequency, theta_waveform, f_ref)\n",
    "    align_time = jnp.exp(-1j*2*jnp.pi*H1_frequency*(epoch+theta[5]))\n",
    "    h_test_H1 = H1_response(H1_frequency, hp_test, hc_test, ra, dec, gmst, theta[8]) * align_time\n",
    "    h_test_L1 = L1_response(L1_frequency, hp_test, hc_test, ra, dec, gmst, theta[8]) * align_time\n",
    "    h_test_V1 = V1_response(V1_frequency, hp_test, hc_test, ra, dec, gmst, theta[8]) * align_time\n",
    "    df = H1_frequency[1] - H1_frequency[0]\n",
    "    match_filter_SNR_H1 = 4*jnp.sum((jnp.conj(h_test_H1)*H1_data)/H1_psd*df).real\n",
    "    match_filter_SNR_L1 = 4*jnp.sum((jnp.conj(h_test_L1)*L1_data)/L1_psd*df).real\n",
    "    match_filter_SNR_V1 = 4*jnp.sum((jnp.conj(h_test_V1)*V1_data)/V1_psd*df).real\n",
    "    optimal_SNR_H1 = 4*jnp.sum((jnp.conj(h_test_H1)*h_test_H1)/H1_psd*df).real\n",
    "    optimal_SNR_L1 = 4*jnp.sum((jnp.conj(h_test_L1)*h_test_L1)/L1_psd*df).real\n",
    "    optimal_SNR_V1 = 4*jnp.sum((jnp.conj(h_test_V1)*h_test_V1)/V1_psd*df)."
   ]
  },
  {
   "cell_type": "markdown",
   "id": "10cf6b4f-e583-413f-a6c5-a88e0f40a7b2",
   "metadata": {},
   "source": [
    "### Constructing the sampler"
   ]
  },
  {
   "cell_type": "markdown",
   "id": "a134ec89",
   "metadata": {},
   "source": []
  }
 ],
 "metadata": {
  "kernelspec": {
   "display_name": "GW",
   "language": "python",
   "name": "gw"
  },
  "language_info": {
   "codemirror_mode": {
    "name": "ipython",
    "version": 3
   },
   "file_extension": ".py",
   "mimetype": "text/x-python",
   "name": "python",
   "nbconvert_exporter": "python",
   "pygments_lexer": "ipython3",
   "version": "3.10.4"
  }
 },
 "nbformat": 4,
 "nbformat_minor": 5
}
