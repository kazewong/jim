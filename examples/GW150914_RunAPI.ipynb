{
 "cells": [
  {
   "cell_type": "markdown",
   "id": "ef126ae7",
   "metadata": {},
   "source": [
    "# Running GW150914 Analysis with the Jim Run API\n",
    "This notebook demonstrates how to use the Jim Run API to perform a standard CBC analysis for GW150914 using the IMRPhenomPv2 waveform."
   ]
  },
  {
   "cell_type": "code",
   "execution_count": null,
   "id": "c2669c2c",
   "metadata": {},
   "outputs": [],
   "source": [
    "from jimgw.run.library.IMRPhenomPv2_standard_cbc import (\n",
    "    TestIMRPhenomPv2StandardCBCRunDefinition,\n",
    ")\n",
    "from jimgw.run.single_event_run_manager import SingleEventRunManager"
   ]
  },
  {
   "cell_type": "markdown",
   "id": "065bdeff",
   "metadata": {},
   "source": [
    "## 1. Set Up the Run Manager\n",
    "We create a run manager for the standard CBC run definition and configure the sampler."
   ]
  },
  {
   "cell_type": "code",
   "execution_count": null,
   "id": "7e5b1428",
   "metadata": {},
   "outputs": [],
   "source": [
    "run_manager = SingleEventRunManager(\n",
    "    TestIMRPhenomPv2StandardCBCRunDefinition(),\n",
    "    n_chains=4,\n",
    "    n_training_loops=1,\n",
    "    n_epochs=10,\n",
    "    n_production_loops=5,\n",
    ")\n",
    "print(run_manager.run)"
   ]
  },
  {
   "cell_type": "markdown",
   "id": "6f5b7e85",
   "metadata": {},
   "source": [
    "## 2. Run the Sampler\n",
    "We start the sampling process."
   ]
  },
  {
   "cell_type": "code",
   "execution_count": null,
   "id": "93b7517f",
   "metadata": {},
   "outputs": [],
   "source": [
    "run_manager.sample()"
   ]
  },
  {
   "cell_type": "markdown",
   "id": "67a81d6d",
   "metadata": {},
   "source": [
    "## 3. Diagnostics and Results\n",
    "We plot the chains, loss, normalizing flow samples, prior, and acceptance rates, and print a summary of the sampling run."
   ]
  },
  {
   "cell_type": "code",
   "execution_count": null,
   "id": "992da7fa",
   "metadata": {},
   "outputs": [],
   "source": [
    "run_manager.plot_chains()\n",
    "run_manager.plot_loss()\n",
    "run_manager.plot_nf_sample()\n",
    "run_manager.plot_prior()\n",
    "run_manager.plot_acceptances()\n",
    "summary = run_manager.generate_summary()\n",
    "print(\"Sampling summary:\", summary)"
   ]
  }
 ],
 "metadata": {
  "language_info": {
   "name": "python"
  }
 },
 "nbformat": 4,
 "nbformat_minor": 5
}
