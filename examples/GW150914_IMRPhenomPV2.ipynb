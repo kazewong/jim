{
 "cells": [
  {
   "cell_type": "markdown",
   "id": "fc751f20",
   "metadata": {},
   "source": [
    "# GW150914 Parameter Estimation with Jim\n",
    "This notebook demonstrates parameter estimation for the GW150914 event using the Jim library and the IMRPhenomPv2 waveform model. The workflow includes data fetching, PSD estimation, prior and transform setup, likelihood construction, and sampling."
   ]
  },
  {
   "cell_type": "code",
   "execution_count": null,
   "id": "f18bddf6",
   "metadata": {},
   "outputs": [],
   "source": [
    "# Import required libraries\n",
    "import time\n",
    "import jax\n",
    "import jax.numpy as jnp\n",
    "from jimgw.core.jim import Jim\n",
    "from jimgw.core.prior import (\n",
    "    CombinePrior,\n",
    "    UniformPrior,\n",
    "    CosinePrior,\n",
    "    SinePrior,\n",
    "    PowerLawPrior,\n",
    "    UniformSpherePrior,\n",
    ")\n",
    "from jimgw.core.single_event.detector import get_H1, get_L1\n",
    "from jimgw.core.single_event.likelihood import BaseTransientLikelihoodFD\n",
    "from jimgw.core.single_event.data import Data\n",
    "from jimgw.core.single_event.waveform import RippleIMRPhenomPv2\n",
    "from jimgw.core.transforms import BoundToUnbound\n",
    "from jimgw.core.single_event.transforms import (\n",
    "    SkyFrameToDetectorFrameSkyPositionTransform,\n",
    "    SphereSpinToCartesianSpinTransform,\n",
    "    MassRatioToSymmetricMassRatioTransform,\n",
    "    DistanceToSNRWeightedDistanceTransform,\n",
    "    GeocentricArrivalTimeToDetectorArrivalTimeTransform,\n",
    "    GeocentricArrivalPhaseToDetectorArrivalPhaseTransform,\n",
    ")\n",
    "jax.config.update(\"jax_enable_x64\", True)"
   ]
  },
  {
   "cell_type": "markdown",
   "id": "cfec5a52",
   "metadata": {},
   "source": [
    "## 1. Fetch Data and Estimate PSD\n",
    "We fetch a 4s segment centered on GW150914 for analysis and a 4096s segment for PSD estimation. Frequency integration bounds are set to avoid antialiasing artifacts."
   ]
  },
  {
   "cell_type": "code",
   "execution_count": null,
   "id": "bd027b35",
   "metadata": {},
   "outputs": [],
   "source": [
    "total_time_start = time.time()\n",
    "# GW150914 GPS time\n",
    "gps = 1126259462.4\n",
    "start = gps - 2\n",
    "end = gps + 2\n",
    "psd_start = gps - 2048\n",
    "psd_end = gps + 2048\n",
    "fmin = 20.0\n",
    "fmax = 1024\n",
    "# Initialize detectors\n",
    "ifos = [get_H1(), get_L1()]\n",
    "for ifo in ifos:\n",
    "    data = Data.from_gwosc(ifo.name, start, end)\n",
    "    ifo.set_data(data)\n",
    "    psd_data = Data.from_gwosc(ifo.name, psd_start, psd_end)\n",
    "    psd_fftlength = data.duration * data.sampling_frequency\n",
    "    ifo.set_psd(psd_data.to_psd(nperseg=psd_fftlength))"
   ]
  },
  {
   "cell_type": "markdown",
   "id": "d73f68ef",
   "metadata": {},
   "source": [
    "## 2. Set Up Waveform Model\n",
    "We use the RippleIMRPhenomPv2 waveform model with a reference frequency of 20 Hz."
   ]
  },
  {
   "cell_type": "code",
   "execution_count": null,
   "id": "6ce2fb0a",
   "metadata": {},
   "outputs": [],
   "source": [
    "waveform = RippleIMRPhenomPv2(f_ref=20)"
   ]
  },
  {
   "cell_type": "markdown",
   "id": "9b3e9693",
   "metadata": {},
   "source": [
    "## 3. Define Priors\n",
    "We define priors for mass, spin, inclination, distance, time, phase, polarization, and sky location."
   ]
  },
  {
   "cell_type": "code",
   "execution_count": null,
   "id": "f0b4c303",
   "metadata": {},
   "outputs": [],
   "source": [
    "prior = []\n",
    "# Mass prior\n",
    "M_c_min, M_c_max = 10.0, 80.0\n",
    "q_min, q_max = 0.125, 1.0\n",
    "Mc_prior = UniformPrior(M_c_min, M_c_max, parameter_names=[\"M_c\"])\n",
    "q_prior = UniformPrior(q_min, q_max, parameter_names=[\"q\"])\n",
    "prior = prior + [Mc_prior, q_prior]\n",
    "# Spin prior\n",
    "s1_prior = UniformSpherePrior(parameter_names=[\"s1\"])\n",
    "s2_prior = UniformSpherePrior(parameter_names=[\"s2\"])\n",
    "iota_prior = SinePrior(parameter_names=[\"iota\"])\n",
    "prior = prior + [s1_prior, s2_prior, iota_prior]\n",
    "# Extrinsic prior\n",
    "dL_prior = PowerLawPrior(1.0, 2000.0, 2.0, parameter_names=[\"d_L\"])\n",
    "t_c_prior = UniformPrior(-0.05, 0.05, parameter_names=[\"t_c\"])\n",
    "phase_c_prior = UniformPrior(0.0, 2 * jnp.pi, parameter_names=[\"phase_c\"])\n",
    "psi_prior = UniformPrior(0.0, jnp.pi, parameter_names=[\"psi\"])\n",
    "ra_prior = UniformPrior(0.0, 2 * jnp.pi, parameter_names=[\"ra\"])\n",
    "dec_prior = CosinePrior(parameter_names=[\"dec\"])\n",
    "prior = prior + [dL_prior, t_c_prior, phase_c_prior, psi_prior, ra_prior, dec_prior]\n",
    "prior = CombinePrior(prior)"
   ]
  },
  {
   "cell_type": "markdown",
   "id": "10edad15",
   "metadata": {},
   "source": [
    "## 4. Define Transforms\n",
    "We set up sample and likelihood transforms for parameter mapping and reparameterization."
   ]
  },
  {
   "cell_type": "code",
   "execution_count": null,
   "id": "4ea7e41a",
   "metadata": {},
   "outputs": [],
   "source": [
    "sample_transforms = [\n",
    "    DistanceToSNRWeightedDistanceTransform(\n",
    "        gps_time=gps, ifos=ifos, dL_min=dL_prior.xmin, dL_max=dL_prior.xmax\n",
    "    ),\n",
    "    GeocentricArrivalPhaseToDetectorArrivalPhaseTransform(gps_time=gps, ifo=ifos[0]),\n",
    "    GeocentricArrivalTimeToDetectorArrivalTimeTransform(\n",
    "        tc_min=t_c_prior.xmin, tc_max=t_c_prior.xmax, gps_time=gps, ifo=ifos[0]\n",
    "    ),\n",
    "    SkyFrameToDetectorFrameSkyPositionTransform(gps_time=gps, ifos=ifos),\n",
    "    BoundToUnbound(\n",
    "        name_mapping=([\"M_c\"], [\"M_c_unbounded\"]),\n",
    "        original_lower_bound=M_c_min,\n",
    "        original_upper_bound=M_c_max,\n",
    "    ),\n",
    "    BoundToUnbound(\n",
    "        name_mapping=([\"q\"], [\"q_unbounded\"]),\n",
    "        original_lower_bound=q_min,\n",
    "        original_upper_bound=q_max,\n",
    "    ),\n",
    "    BoundToUnbound(\n",
    "        name_mapping=([\"s1_phi\"], [\"s1_phi_unbounded\"]),\n",
    "        original_lower_bound=0.0,\n",
    "        original_upper_bound=2 * jnp.pi,\n",
    "    ),\n",
    "    BoundToUnbound(\n",
    "        name_mapping=([\"s2_phi\"], [\"s2_phi_unbounded\"]),\n",
    "        original_lower_bound=0.0,\n",
    "        original_upper_bound=2 * jnp.pi,\n",
    "    ),\n",
    "    BoundToUnbound(\n",
    "        name_mapping=([\"iota\"], [\"iota_unbounded\"]),\n",
    "        original_lower_bound=0.0,\n",
    "        original_upper_bound=jnp.pi,\n",
    "    ),\n",
    "    BoundToUnbound(\n",
    "        name_mapping=([\"s1_theta\"], [\"s1_theta_unbounded\"]),\n",
    "        original_lower_bound=0.0,\n",
    "        original_upper_bound=jnp.pi,\n",
    "    ),\n",
    "    BoundToUnbound(\n",
    "        name_mapping=([\"s2_theta\"], [\"s2_theta_unbounded\"]),\n",
    "        original_lower_bound=0.0,\n",
    "        original_upper_bound=jnp.pi,\n",
    "    ),\n",
    "    BoundToUnbound(\n",
    "        name_mapping=([\"s1_mag\"], [\"s1_mag_unbounded\"]),\n",
    "        original_lower_bound=0.0,\n",
    "        original_upper_bound=0.99,\n",
    "    ),\n",
    "    BoundToUnbound(\n",
    "        name_mapping=([\"s2_mag\"], [\"s2_mag_unbounded\"]),\n",
    "        original_lower_bound=0.0,\n",
    "        original_upper_bound=0.99,\n",
    "    ),\n",
    "    BoundToUnbound(\n",
    "        name_mapping=([\"phase_det\"], [\"phase_det_unbounded\"]),\n",
    "        original_lower_bound=0.0,\n",
    "        original_upper_bound=2 * jnp.pi,\n",
    "    ),\n",
    "    BoundToUnbound(\n",
    "        name_mapping=([\"psi\"], [\"psi_unbounded\"]),\n",
    "        original_lower_bound=0.0,\n",
    "        original_upper_bound=jnp.pi,\n",
    "    ),\n",
    "    BoundToUnbound(\n",
    "        name_mapping=([\"zenith\"], [\"zenith_unbounded\"]),\n",
    "        original_lower_bound=0.0,\n",
    "        original_upper_bound=jnp.pi,\n",
    "    ),\n",
    "    BoundToUnbound(\n",
    "        name_mapping=([\"azimuth\"], [\"azimuth_unbounded\"]),\n",
    "        original_lower_bound=0.0,\n",
    "        original_upper_bound=2 * jnp.pi,\n",
    "    ),\n",
    "]\n",
    "likelihood_transforms = [\n",
    "    MassRatioToSymmetricMassRatioTransform,\n",
    "    SphereSpinToCartesianSpinTransform(\"s1\"),\n",
    "    SphereSpinToCartesianSpinTransform(\"s2\"),\n",
    "]"
   ]
  },
  {
   "cell_type": "markdown",
   "id": "2759a79e",
   "metadata": {},
   "source": [
    "## 5. Construct Likelihood and Run Sampler\n",
    "We construct the frequency-domain likelihood and run the Jim sampler."
   ]
  },
  {
   "cell_type": "code",
   "execution_count": null,
   "id": "55f4878f",
   "metadata": {},
   "outputs": [],
   "source": [
    "likelihood = BaseTransientLikelihoodFD(\n",
    "    ifos,\n",
    "    waveform=waveform,\n",
    "    trigger_time=gps,\n",
    "    f_min=fmin,\n",
    "    f_max=fmax,\n",
    ")\n",
    "jim = Jim(\n",
    "    likelihood,\n",
    "    prior,\n",
    "    sample_transforms=sample_transforms,\n",
    "    likelihood_transforms=likelihood_transforms,\n",
    "    n_chains=500,\n",
    "    n_local_steps=100,\n",
    "    n_global_steps=1000,\n",
    "    n_training_loops=20,\n",
    "    n_production_loops=10,\n",
    "    n_epochs=20,\n",
    "    mala_step_size=2e-3,\n",
    "    rq_spline_hidden_units=[128, 128],\n",
    "    rq_spline_n_bins=10,\n",
    "    rq_spline_n_layers=8,\n",
    "    learning_rate=1e-3,\n",
    "    batch_size=10000,\n",
    "    n_max_examples=30000,\n",
    "    n_NFproposal_batch_size=100,\n",
    "    local_thinning=1,\n",
    "    global_thinning=100,\n",
    "    history_window=200,\n",
    "    n_temperatures=0,\n",
    "    max_temperature=20.0,\n",
    "    n_tempered_steps=10,\n",
    "    verbose=True,\n",
    ")\n",
    "jim.sample()\n",
    "print(\"Done!\")"
   ]
  },
  {
   "cell_type": "markdown",
   "id": "ea8eb041",
   "metadata": {},
   "source": [
    "## 6. Analyze Results\n",
    "We extract the log-probabilities and samples, and plot the posterior distributions using corner plots."
   ]
  },
  {
   "cell_type": "code",
   "execution_count": null,
   "id": "4481f4b8",
   "metadata": {},
   "outputs": [],
   "source": [
    "logprob = jim.sampler.resources[\"log_prob_production\"].data\n",
    "print(jnp.mean(logprob))\n",
    "chains = jim.get_samples()\n",
    "import numpy as np\n",
    "import corner\n",
    "fig = corner.corner(\n",
    "    np.stack([chains[key] for key in jim.prior.parameter_names]).T[::10]\n",
    ")\n",
    "fig.savefig(\"test\")"
   ]
  }
 ],
 "metadata": {
  "language_info": {
   "name": "python"
  }
 },
 "nbformat": 4,
 "nbformat_minor": 5
}
